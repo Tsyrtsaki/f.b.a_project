{
 "cells": [
  {
   "cell_type": "code",
   "execution_count": null,
   "metadata": {},
   "outputs": [],
   "source": [
    "import pandas as pd\n",
    "import seaborn as sns\n",
    "import matplotlib.pyplot as plt\n",
    "\n"
   ]
  },
  {
   "cell_type": "code",
   "execution_count": null,
   "metadata": {},
   "outputs": [],
   "source": [
    "import pandas as pd\n",
    "import plotly.express as px\n",
    "import cufflinks as cf\n",
    "df = pd.read_csv('weather_database.csv')\n",
    "df['date'] = pd.to_datetime(df['year'].astype(str) + '-W' + df['week_number'].astype(str) + '-1', format='%Y-W%W-%w')\n",
    "df = df.set_index('date')\n",
    "def generate_chart(year, title):\n",
    "    cities = ['rovaniemi_temperature', 'sodankylä_temperature', 'ivalo_temperature', 'oulu_temperature', 'kajaani_temperature', 'kuopio_temperature', 'jyväskylä_temperature', 'tampere_temperature', 'helsinki_temperature']\n",
    "    df_filtered = df[df['year'] == year]\n",
    "    df_grouped = df_filtered[cities].groupby(pd.Grouper(freq='W-MON')).mean()\n",
    "    fig = px.line(df_grouped, x=df_grouped.index.week, y=cities, title=title)\n",
    "    fig.show()\n",
    "\n",
    "generate_chart(2018, 'Average weekly values by city in 2022')\n",
    "year = int(input('Enter the year: '))\n",
    "title = input('Enter the chart title: ')\n",
    "generate_chart(year, title)\n"
   ]
  },
  {
   "cell_type": "code",
   "execution_count": null,
   "metadata": {},
   "outputs": [],
   "source": [
    "df=pd.read_excel('weather_database.xlsx')\n",
    "df=df.to_csv('weather_database.csv')"
   ]
  },
  {
   "cell_type": "code",
   "execution_count": null,
   "metadata": {},
   "outputs": [],
   "source": [
    "import pandas as pd\n",
    "import plotly.express as px\n",
    "df = pd.read_csv('weather_database.csv')\n",
    "df['date'] = pd.to_datetime(df['year'].astype(str) + '-W' + df['week_number'].astype(str) + '-1', format='%Y-W%W-%w')\n",
    "fig = px.line(df, x='date', y=['rovaniemi_temperature', 'sodankylä_temperature', 'ivalo_temperature', 'oulu_temperature', 'kajaani_temperature', 'kuopio_temperature', 'jyväskylä_temperature', 'tampere_temperature', 'helsinki_temperature'], title='City Trends Over Time')\n",
    "fig.show()\n",
    "\n"
   ]
  },
  {
   "cell_type": "code",
   "execution_count": null,
   "metadata": {},
   "outputs": [],
   "source": [
    "import pandas as pd\n",
    "import plotly.express as px\n",
    "import cufflinks as cf\n",
    "import plotly.io as pio\n",
    "\n",
    "df = pd.read_csv('weather_database.csv')\n",
    "\n",
    "df['date'] = pd.to_datetime(df['year'].astype(str) + '-W' + df['week_number'].astype(str) + '-1', format='%Y-W%W-%w')\n",
    "df = df.set_index('date')\n",
    "year = 2019\n",
    "cities = ['rovaniemi_temperature', 'sodankylä_temperature', 'ivalo_temperature', 'oulu_temperature', 'kajaani_temperature', 'kuopio_temperature', 'jyväskylä_temperature', 'tampere_temperature', 'helsinki_temperature']\n",
    "df_filtered = df[df['year'] == year]\n",
    "df_grouped = df_filtered[cities].groupby(pd.Grouper(freq='W-MON')).mean()\n",
    "fig = px.line(df_grouped, x=df_grouped.index.week, y=cities,labels={'x': 'Week number','value':'Temperature', 'variable':'City'}, title='Average weekly values by city')\n",
    "fig.show()\n",
    "\n",
    "html_str = pio.to_html(fig, full_html=False)\n",
    "with open('chart.html', 'w') as f:\n",
    "    f.write(html_str)\n",
    "#cf.go_offline()\n",
    "#df_grouped.iplot(kind='line', xTitle='Week number', yTitle='Temperature', title='Average weekly values by city')\n"
   ]
  },
  {
   "cell_type": "code",
   "execution_count": null,
   "metadata": {},
   "outputs": [],
   "source": [
    "html_str = pio.to_html(fig, full_html=False)\n",
    "with open('chart.html', 'w') as f:\n",
    "    f.write(html_str)\n"
   ]
  },
  {
   "cell_type": "code",
   "execution_count": null,
   "metadata": {},
   "outputs": [],
   "source": [
    "import pandas as pd\n",
    "import matplotlib.pyplot as plt\n",
    "\n",
    "# Load the excel data\n",
    "df = pd.read_excel('weather_database.xlsx')\n",
    "\n",
    "# Create a datetime column\n",
    "df['date'] = pd.to_datetime(df[['year', 'month', 'day']])\n",
    "\n",
    "# Group by year and temperature columns to calculate the average temperature for each year\n",
    "df_avg = df.groupby([df['date'].dt.year, 'date']).mean()\n",
    "\n",
    "# Group by year to calculate the average temperature for 4 years\n",
    "df_avg4 = df_avg.groupby(df_avg.index.get_level_values(0)//4).mean()\n",
    "\n",
    "# Select the columns to plot\n",
    "cols_to_plot = ['rovaniemi_temperature', 'sodankylä_temperature', 'ivalo_temperature', 'oulu_temperature', 'kajaani_temperature', 'kuopio_temperature', 'jyväskylä_temperature', 'tampere_temperature', 'helsinki_temperature']\n",
    "\n",
    "# Create a line graph\n",
    "fig, ax = plt.subplots(figsize=(12, 8))\n",
    "\n",
    "for col in cols_to_plot:\n",
    "    ax.plot(df_avg4[col], label=col)\n",
    "\n",
    "ax.set_xlabel('Year')\n",
    "ax.set_ylabel('Temperature (Celsius)')\n",
    "ax.set_title('Average Temperature for 4 Years')\n",
    "ax.legend()\n",
    "\n",
    "plt.show()\n",
    "\n"
   ]
  },
  {
   "cell_type": "code",
   "execution_count": null,
   "metadata": {},
   "outputs": [],
   "source": [
    "import pandas as pd\n",
    "import matplotlib.pyplot as plt\n",
    "\n",
    "# load the Excel file into a pandas dataframe\n",
    "df = pd.read_excel('weather_database.xlsx')\n",
    "\n",
    "# create a 'date' column\n",
    "df['date'] = pd.to_datetime(df[['year', 'month', 'day']])\n",
    "\n",
    "# group by year and take the mean of each temperature column\n",
    "df_avg = df.groupby(df['date'].dt.year).mean()[['rovaniemi_temperature', 'sodankylä_temperature', 'ivalo_temperature', 'oulu_temperature', 'kajaani_temperature', 'kuopio_temperature', 'jyväskylä_temperature', 'tampere_temperature', 'helsinki_temperature']]\n",
    "\n",
    "# create a line graph of the average temperature for each year\n",
    "fig, ax = plt.subplots(figsize=(10,6))\n",
    "df_avg.plot(ax=ax, kind='line')\n",
    "\n",
    "# set the axis labels and title\n",
    "ax.set_xlabel('Year')\n",
    "ax.set_ylabel('Temperature (Celsius)')\n",
    "ax.set_title('Average Temperature for 4 Years')\n",
    "\n",
    "# display the graph\n",
    "plt.show()\n"
   ]
  },
  {
   "cell_type": "code",
   "execution_count": null,
   "metadata": {},
   "outputs": [],
   "source": [
    "import pandas as pd\n",
    "import matplotlib.pyplot as plt\n",
    "\n",
    "# Load the data from Excel file\n",
    "df = pd.read_excel('weather_database.xlsx')\n",
    "\n",
    "# Convert 'year', 'month', 'day' to datetime\n",
    "df['date'] = pd.to_datetime(df[['year', 'month', 'day']])\n",
    "\n",
    "# Add a column for the year\n",
    "df['year'] = df['date'].dt.year\n",
    "\n",
    "# Calculate the average temperature for each city over 4 years\n",
    "avg_temp = df.groupby(['year']).mean()[['rovaniemi_temperature', 'sodankylä_temperature', 'ivalo_temperature', 'oulu_temperature', 'kajaani_temperature', 'kuopio_temperature', 'jyväskylä_temperature', 'tampere_temperature', 'helsinki_temperature']]\n",
    "\n",
    "# Create a horizontal bar chart\n",
    "ax = avg_temp.plot(kind='barh', figsize=(10,8))\n",
    "\n",
    "# Add titles and labels\n",
    "plt.title('Average Temperature by City over 4 Years')\n",
    "plt.xlabel('Temperature (°C)')\n",
    "plt.ylabel('City')\n",
    "\n",
    "# Show the plot\n",
    "plt.show()\n"
   ]
  },
  {
   "cell_type": "code",
   "execution_count": null,
   "metadata": {},
   "outputs": [],
   "source": [
    "import pandas as pd\n",
    "import matplotlib.pyplot as plt\n",
    "df = pd.read_excel(\"weather_database.xlsx\")\n",
    "df['full_date'] = pd.to_datetime(df[['year', 'month', 'day']])\n",
    "df['week_number'] = df['full_date'].dt.week\n",
    "df.to_excel('weather_database.xlsx', index=False)"
   ]
  },
  {
   "cell_type": "code",
   "execution_count": null,
   "metadata": {},
   "outputs": [],
   "source": [
    "data_xls = pd.read_excel('data.xlsx', dtype=str, index_col=None)\n",
    "data_xls.to_csv('Test.csv', encoding='utf-8', index=False)\n",
    "\n",
    "\n",
    "df_w=pd.read_csv('Test.csv')\n",
    "f = pd.DataFrame(df_w)\n",
    "\n",
    "# convert the 'Date' column to week number\n",
    "df_w['Week'] = pd.to_datetime(df_w['havainto pvm'], format='%Y/%m/%d').dt.week\n",
    "\n",
    "# display the updated dataframe\n",
    "print(df_w)"
   ]
  },
  {
   "cell_type": "code",
   "execution_count": null,
   "metadata": {},
   "outputs": [],
   "source": [
    "import pandas as pd\n",
    "import utm\n",
    "\n",
    "# Define the UTM zone and hemisphere for Finland (Zone 35, Northern hemisphere)\n",
    "zone_number = 35\n",
    "zone_letter = 'V'\n",
    "\n",
    "# Read in the CSV file with UTM coordinates\n",
    "df = pd.read_csv('Test.csv')\n",
    "\n",
    "# Convert the UTM coordinates to GPS coordinates using the utm library\n",
    "df[['Latitude', 'Longitude']] = df.apply(lambda row: utm.to_latlon(row['Easting'], row['Northing'], zone_number, zone_letter), axis=1, result_type='expand')\n",
    "\n",
    "# Write the new GPS coordinates back to the CSV file\n",
    "df.to_csv('filename.csv', index=False)\n",
    "\n"
   ]
  },
  {
   "cell_type": "code",
   "execution_count": null,
   "metadata": {},
   "outputs": [],
   "source": [
    "df = pd.read_csv('filename.csv')\n",
    "\n",
    "\n",
    "# combine latitude and longitude columns into a single column of coordinates\n",
    "#df['Coordinates'] = list(zip(df['Latitude'], df['Longitude']))\n",
    "\n",
    "#cord_u=df['Coordinates'].unique()\n",
    "#print(cord_u)\n",
    "\n",
    "#df = pd.DataFrame({'Numbers': [123456, 789012, 345678]})\n",
    "\n",
    "# convert 'Numbers' column to string data type and split into separate columns\n",
    "df['Coordinates'] = df['Latitude'].astype(str) + ',' + df['Longitude'].astype(str)\n",
    "\n",
    "# find unique values in 'Coordinates' column\n",
    "unique_coordinates = df['Coordinates'].unique()\n",
    "\n",
    "# split 'Coordinates' column into 'Latitude' and 'Longitude' columns\n",
    "df[['Lat', 'Long']] = df['Coordinates'].str.split(',', expand=True)\n",
    "\n",
    "\n",
    "dataframes = []\n",
    "for coord in unique_coordinates:\n",
    "    temp_df = pd.DataFrame({'Coordinates': [coord]})\n",
    "    temp_df[['Lat', 'Long']] = temp_df['Coordinates'].str.split(',', expand=True)\n",
    "    dataframes.append(temp_df)\n",
    "\n",
    "# concatenate all dataframes into one\n",
    "result_df = pd.concat(dataframes, ignore_index=True)\n",
    "\n",
    "# display the resulting dataframe\n",
    "result_df.to_csv('my_dataframe.csv', index=False)\n",
    "print(result_df)\n",
    "\n"
   ]
  },
  {
   "cell_type": "code",
   "execution_count": null,
   "metadata": {},
   "outputs": [],
   "source": [
    "import folium\n",
    "\n",
    "\n",
    "# read in your data from your database (replace the file path and column names with your own)\n",
    "data = pd.read_csv('my_dataframe.csv', usecols=['Lat', 'Long'])\n",
    "\n",
    "# create map centered on Finland\n",
    "finland_map = folium.Map(location=[64.00, 26.00], zoom_start=5)\n",
    "\n",
    "# add points to the map\n",
    "for index, row in data.iterrows():\n",
    "    folium.Marker([row['Lat'], row['Long']]).add_to(finland_map)\n",
    "\n",
    "# display the map\n",
    "finland_map\n"
   ]
  },
  {
   "cell_type": "code",
   "execution_count": null,
   "metadata": {},
   "outputs": [],
   "source": [
    "import pandas as pd\n",
    "df = pd.read_csv('weather_database.csv')\n",
    "df_t = pd.read_csv('weather_data.csv')"
   ]
  },
  {
   "cell_type": "code",
   "execution_count": null,
   "metadata": {},
   "outputs": [],
   "source": [
    "import folium\n",
    "data = pd.read_csv('weather_data.csv', usecols=['lat', 'lon'])\n",
    "finland_map = folium.Map(location=[64.00, 26.00], zoom_start=5)\n",
    "\n",
    "# add points to the map\n",
    "for index, row in data.iterrows():\n",
    "    folium.Marker([row['lat'], row['lon']]).add_to(finland_map)\n",
    "\n",
    "# display the map\n",
    "finland_map\n"
   ]
  },
  {
   "cell_type": "code",
   "execution_count": 25,
   "metadata": {},
   "outputs": [],
   "source": [
    "\n",
    "\n",
    "import pandas as pd\n",
    "import numpy as np\n",
    "\n",
    "# read CSV file\n",
    "df = pd.read_csv('weather_database.csv')\n",
    "\n",
    "result = df.groupby(['year','week_number'])[['year','week_number','rovaniemi_temperature','sodankylä_temperature','ivalo_temperature','oulu_temperature','kajaani_temperature','kuopio_temperature','jyväskylä_temperature','tampere_temperature','helsinki_temperature']].mean()\n",
    "\n",
    "result.to_excel('weather_database_short.xlsx', index= False)\n",
    "\n",
    "#df_new = pd.read_csv('weather_database_short.csv')\n",
    "\n",
    "#df_new[['year', 'week']] = result['index'].str.split(',', expand=True)\n",
    "\n",
    "#df_new.drop('index', axis=1, inplace=True)\n",
    "\n",
    "#result.to_csv('weather_database_short.csv', index= False)\n",
    "\n",
    "#check = pd.read_csv('weather_database_short.csv')\n",
    "\n",
    "#df = result.reset_index()\n"
   ]
  },
  {
   "cell_type": "code",
   "execution_count": 15,
   "metadata": {},
   "outputs": [],
   "source": [
    "df = pd.read_csv('weather_database_newest.csv')\n",
    "df = df.to_json('weather_database_newest.json')"
   ]
  }
 ],
 "metadata": {
  "kernelspec": {
   "display_name": "Python 3",
   "language": "python",
   "name": "python3"
  },
  "language_info": {
   "codemirror_mode": {
    "name": "ipython",
    "version": 3
   },
   "file_extension": ".py",
   "mimetype": "text/x-python",
   "name": "python",
   "nbconvert_exporter": "python",
   "pygments_lexer": "ipython3",
   "version": "3.9.13"
  },
  "orig_nbformat": 4,
  "vscode": {
   "interpreter": {
    "hash": "3ad933181bd8a04b432d3370b9dc3b0662ad032c4dfaa4e4f1596c548f763858"
   }
  }
 },
 "nbformat": 4,
 "nbformat_minor": 2
}
